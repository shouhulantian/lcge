{
 "cells": [
  {
   "cell_type": "code",
   "execution_count": 2,
   "metadata": {},
   "outputs": [
    {
     "ename": "FileNotFoundError",
     "evalue": "[Errno 2] No such file or directory: '../rulelearning/ICEWS15/triples.tsv'",
     "output_type": "error",
     "traceback": [
      "\u001B[0;31m---------------------------------------------------------------------------\u001B[0m",
      "\u001B[0;31mFileNotFoundError\u001B[0m                         Traceback (most recent call last)",
      "\u001B[0;32m/var/folders/w_/7w423f0s37lg4l6qk1fpdkr80000gp/T/ipykernel_9647/4057612681.py\u001B[0m in \u001B[0;36m<module>\u001B[0;34m\u001B[0m\n\u001B[1;32m     12\u001B[0m \u001B[0mf\u001B[0m\u001B[0;34m.\u001B[0m\u001B[0mclose\u001B[0m\u001B[0;34m(\u001B[0m\u001B[0;34m)\u001B[0m\u001B[0;34m\u001B[0m\u001B[0m\n\u001B[1;32m     13\u001B[0m \u001B[0;34m\u001B[0m\u001B[0m\n\u001B[0;32m---> 14\u001B[0;31m \u001B[0mf_save\u001B[0m \u001B[0;34m=\u001B[0m \u001B[0mopen\u001B[0m\u001B[0;34m(\u001B[0m\u001B[0;34m\"../rulelearning/ICEWS15/triples.tsv\"\u001B[0m\u001B[0;34m,\u001B[0m \u001B[0;34m'w'\u001B[0m\u001B[0;34m)\u001B[0m\u001B[0;34m\u001B[0m\u001B[0m\n\u001B[0m\u001B[1;32m     15\u001B[0m \u001B[0mcount\u001B[0m \u001B[0;34m=\u001B[0m \u001B[0;36m0\u001B[0m\u001B[0;34m\u001B[0m\u001B[0m\n\u001B[1;32m     16\u001B[0m \u001B[0;32mfor\u001B[0m \u001B[0mtri\u001B[0m \u001B[0;32min\u001B[0m \u001B[0mtriple\u001B[0m\u001B[0;34m:\u001B[0m\u001B[0;34m\u001B[0m\u001B[0m\n",
      "\u001B[0;31mFileNotFoundError\u001B[0m: [Errno 2] No such file or directory: '../rulelearning/ICEWS15/triples.tsv'"
     ]
    }
   ],
   "source": [
    "f = open(\"../../src_data/ICEWS05-15/train\")\n",
    "triple = []\n",
    "for line in f:\n",
    "    e1, r, e2, time = line.split(\"\\t\")\n",
    "    triple.append(e1 + \"\\t\" + r + \"\\t\" + e2 + \"\\n\")\n",
    "f.close()\n",
    "\n",
    "f = open(\"../../src_data/ICEWS05-15/valid\")\n",
    "for line in f:\n",
    "    e1, r, e2, time = line.split(\"\\t\")\n",
    "    triple.append(e1 + \"\\t\" + r + \"\\t\" + e2 + \"\\n\")\n",
    "f.close()\n",
    "\n",
    "f_save = open(\"../rulelearning/ICEWS15/triples.tsv\", 'w')\n",
    "count = 0\n",
    "for tri in triple:\n",
    "    f_save.write(tri)\n",
    "    count += 1\n",
    "print(\"the amount of triples is:\\t\", count)\n",
    "f_save.close()"
   ]
  },
  {
   "cell_type": "code",
   "execution_count": 4,
   "metadata": {},
   "outputs": [
    {
     "ename": "ValueError",
     "evalue": "not enough values to unpack (expected 5, got 4)",
     "output_type": "error",
     "traceback": [
      "\u001B[0;31m---------------------------------------------------------------------------\u001B[0m",
      "\u001B[0;31mValueError\u001B[0m                                Traceback (most recent call last)",
      "\u001B[0;32m/var/folders/w_/7w423f0s37lg4l6qk1fpdkr80000gp/T/ipykernel_9647/2417495918.py\u001B[0m in \u001B[0;36m<module>\u001B[0;34m\u001B[0m\n\u001B[1;32m      2\u001B[0m \u001B[0mtriple\u001B[0m \u001B[0;34m=\u001B[0m \u001B[0;34m[\u001B[0m\u001B[0;34m]\u001B[0m\u001B[0;34m\u001B[0m\u001B[0m\n\u001B[1;32m      3\u001B[0m \u001B[0;32mfor\u001B[0m \u001B[0mline\u001B[0m \u001B[0;32min\u001B[0m \u001B[0mf\u001B[0m\u001B[0;34m:\u001B[0m\u001B[0;34m\u001B[0m\u001B[0m\n\u001B[0;32m----> 4\u001B[0;31m     \u001B[0me1\u001B[0m\u001B[0;34m,\u001B[0m \u001B[0mr\u001B[0m\u001B[0;34m,\u001B[0m \u001B[0me2\u001B[0m\u001B[0;34m,\u001B[0m \u001B[0mstart\u001B[0m\u001B[0;34m,\u001B[0m \u001B[0mend\u001B[0m \u001B[0;34m=\u001B[0m \u001B[0mline\u001B[0m\u001B[0;34m.\u001B[0m\u001B[0msplit\u001B[0m\u001B[0;34m(\u001B[0m\u001B[0;34m\"\\t\"\u001B[0m\u001B[0;34m)\u001B[0m\u001B[0;34m\u001B[0m\u001B[0m\n\u001B[0m\u001B[1;32m      5\u001B[0m     \u001B[0mtriple\u001B[0m\u001B[0;34m.\u001B[0m\u001B[0mappend\u001B[0m\u001B[0;34m(\u001B[0m\u001B[0me1\u001B[0m \u001B[0;34m+\u001B[0m \u001B[0;34m\"\\t\"\u001B[0m \u001B[0;34m+\u001B[0m \u001B[0mr\u001B[0m \u001B[0;34m+\u001B[0m \u001B[0;34m\"\\t\"\u001B[0m \u001B[0;34m+\u001B[0m \u001B[0me2\u001B[0m \u001B[0;34m+\u001B[0m \u001B[0;34m\"\\n\"\u001B[0m\u001B[0;34m)\u001B[0m\u001B[0;34m\u001B[0m\u001B[0m\n\u001B[1;32m      6\u001B[0m \u001B[0mf\u001B[0m\u001B[0;34m.\u001B[0m\u001B[0mclose\u001B[0m\u001B[0;34m(\u001B[0m\u001B[0;34m)\u001B[0m\u001B[0;34m\u001B[0m\u001B[0m\n",
      "\u001B[0;31mValueError\u001B[0m: not enough values to unpack (expected 5, got 4)"
     ]
    }
   ],
   "source": [
    "f = open(\"../../src_data/ICEWS14/train\")\n",
    "triple = []\n",
    "for line in f:\n",
    "    e1, r, e2, start, end = line.split(\"\\t\")\n",
    "    triple.append(e1 + \"\\t\" + r + \"\\t\" + e2 + \"\\n\")\n",
    "f.close()\n",
    "\n",
    "f = open(\"../../src_data/ICEWS14/valid\")\n",
    "for line in f:\n",
    "    e1, r, e2, _, _ = line.split(\"\\t\")\n",
    "    triple.append(e1 + \"\\t\" + r + \"\\t\" + e2 + \"\\n\")\n",
    "f.close()\n",
    "\n",
    "f_save = open(\"../rulelearning/ICEWS14/triples.tsv\", 'w')\n",
    "count = 0\n",
    "for tri in triple:\n",
    "    f_save.write(tri)\n",
    "    count += 1\n",
    "print(\"the amount of triples is:\\t\", count)\n",
    "f_save.close()"
   ]
  }
 ],
 "metadata": {
  "kernelspec": {
   "display_name": "Python 3",
   "language": "python",
   "name": "python3"
  },
  "language_info": {
   "codemirror_mode": {
    "name": "ipython",
    "version": 3
   },
   "file_extension": ".py",
   "mimetype": "text/x-python",
   "name": "python",
   "nbconvert_exporter": "python",
   "pygments_lexer": "ipython3",
   "version": "3.6.8"
  }
 },
 "nbformat": 4,
 "nbformat_minor": 2
}